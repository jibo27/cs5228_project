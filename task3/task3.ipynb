{
 "cells": [
  {
   "cell_type": "markdown",
   "metadata": {},
   "source": [
    "CS5228 Project - Task 3\n",
    "\n",
    "Advanced Search Engine Ranking on the Potential Bargain.\n",
    "\n",
    "Subtasks:\n",
    "1. Search Engine: Filtering out the cars that satisfying the requirements of buyers.\n",
    "2. Price Prediction: Predicting the market price cars.\n",
    "3. Ranking Algorithm: Ranking cars based on the bargain, where bargain = predicted price - listed price."
   ]
  },
  {
   "cell_type": "code",
   "execution_count": 1,
   "metadata": {},
   "outputs": [],
   "source": [
    "import csv\n",
    "from numpy.core.numeric import normalize_axis_tuple\n",
    "from sklearn.preprocessing import OrdinalEncoder, OneHotEncoder\n",
    "import numpy as np\n",
    "from datetime import datetime\n",
    "\n",
    "from xgboost import XGBRegressor\n",
    "from sklearn.metrics import accuracy_score\n",
    "import pandas as pd"
   ]
  },
  {
   "cell_type": "markdown",
   "metadata": {},
   "source": [
    "Subtask 1 - Price Prediction\n",
    "\n",
    "a. Speed V.S. Memory: Runtime prediction can save memory, but the waiting time will increase obviously when database is larger; If we have enough memory, we can do prediction once a time and save all the results in the database. Here we choose to store market prices in advance.\n",
    "\n",
    "b. Algorithm: Xgboost"
   ]
  },
  {
   "cell_type": "code",
   "execution_count": 2,
   "metadata": {},
   "outputs": [
    {
     "name": "stdout",
     "output_type": "stream",
     "text": [
      "(5035,)\n",
      "(16784, 30)\n"
     ]
    }
   ],
   "source": [
    "from xgboost import XGBRegressor\n",
    "from utils.prediction import parse, analyze_attribute, build_vectors, self_split,write_to_csvfile\n",
    "\n",
    "data_train = parse('data/train.csv')\n",
    "\n",
    "attrs, attr2vec = analyze_attribute(data_train)\n",
    "\n",
    "\n",
    "data_train = build_vectors(data_train, attr2vec, attrs)\n",
    "\n",
    "X = data_train[:, :-1]\n",
    "y = data_train[:, -1]\n",
    "\n",
    "test_ratio = 0.3\n",
    "X_train, X_test, y_train, y_test = self_split(X, y, test_ratio)\n",
    "\n",
    "other_params ={\"n_estimators\": 400, \"max_depth\": 20, \"min_child_weight\": 2, \"colsample_bytree\": 0.5}\n",
    "learning_rate = 0.09\n",
    "model = XGBRegressor(**other_params, learning_rate=learning_rate)\n",
    "model.fit(X_train, y_train)\n",
    "\n",
    "\n",
    "y_pred_test = model.predict(X_test)\n",
    "write_to_csvfile(y_pred_test, 'data/train.csv', ratio=test_ratio)"
   ]
  },
  {
   "cell_type": "markdown",
   "metadata": {},
   "source": [
    "Subtask 2 - Search Engine\n",
    "\n",
    "a. Search condition: [make, manufacture (interval value: x-y), transmission, price (interval value: x-y)], where -1 means user do not give any constraint to this condition\n",
    "\n",
    "b. input: conditions; output: list of satisfying items"
   ]
  },
  {
   "cell_type": "code",
   "execution_count": 12,
   "metadata": {},
   "outputs": [
    {
     "name": "stdout",
     "output_type": "stream",
     "text": [
      "(96, 32)\n"
     ]
    }
   ],
   "source": [
    "from utils.filtering import my_search\n",
    "\n",
    "filtered = my_search([-1,'2013-2015','manual',-1])\n",
    "print(filtered.shape)"
   ]
  },
  {
   "cell_type": "markdown",
   "metadata": {},
   "source": [
    "Subtask 3 - Ranking Algorithm\n",
    "\n",
    "a. Ranking condition: bargain is the main factor, listed price is the second factor.\n",
    "\n",
    "b. input: k, get top-k best"
   ]
  },
  {
   "cell_type": "code",
   "execution_count": 13,
   "metadata": {},
   "outputs": [
    {
     "name": "stdout",
     "output_type": "stream",
     "text": [
      "      Unnamed: 0  listing_id                                title        make  \\\n",
      "79         11828     1000222           Renault Megane RS 265 2.0M     renault   \n",
      "3618       15367      974592               Land Rover Defender 90  land rover   \n",
      "1875       13624      890904                         Foton Aumark       foton   \n",
      "3036       14785     1007974                  Isuzu FXZ77M Tipper       isuzu   \n",
      "431        12180     1020699                  Isuzu FXZ77M Tipper       isuzu   \n",
      "426        12175     1013490              Maxus V80 Commuter 2.5M       maxus   \n",
      "3671       15420     1018078         Mitsubishi Fuso Canter FEB71         NaN   \n",
      "370        12119     1018087                       Nissan Cabstar      nissan   \n",
      "4518       16267      995443                          Isuzu TFR86       isuzu   \n",
      "3888       15637     1014197  Fiat Doblo Cargo Maxi 1.6M Multijet        fiat   \n",
      "\n",
      "         model                                        description  \\\n",
      "79      megane  upgraded hu, speakers, amplifier and sub-woofy...   \n",
      "3618  defender  consignment unit. full serviced under pro defe...   \n",
      "1875    aumark     hight box, well kept, in house loan available.   \n",
      "3036    fxz77m  we are offering 6 months warranty program! 1 m...   \n",
      "431     fxz77m  refurbished and ready to go! please call to ar...   \n",
      "426        v80  owner consignment unit! c&c maintained unit! i...   \n",
      "3671      fuso  1 owner unit. super low mileage and tip top co...   \n",
      "370    cabstar   servicing done regularly, come with full canopy.   \n",
      "4518     tfr86  4/15 isuzu tfr 86 double cab pickup, 1 owner, ...   \n",
      "3888     doblo     please call in advance before viewing. thanks!   \n",
      "\n",
      "      manufactured original_reg_date     reg_date type_of_vehicle  ...  \\\n",
      "79          2013.0               NaN  25-jul-2013      sports car  ...   \n",
      "3618        2015.0               NaN  07-jan-2016           truck  ...   \n",
      "1875        2015.0               NaN  27-aug-2016           truck  ...   \n",
      "3036        2013.0               NaN  10-jan-2014           truck  ...   \n",
      "431         2013.0               NaN  03-jan-2014           truck  ...   \n",
      "426         2015.0               NaN  17-feb-2016             van  ...   \n",
      "3671        2013.0               NaN  14-jan-2014           truck  ...   \n",
      "370         2014.0               NaN  09-sep-2014           truck  ...   \n",
      "4518        2015.0               NaN  17-apr-2015           truck  ...   \n",
      "3888        2014.0               NaN  24-mar-2014             van  ...   \n",
      "\n",
      "          arf opc_scheme     lifespan   eco_category  \\\n",
      "79    31578.0        NaN          NaN  uncategorized   \n",
      "3618   3007.0        NaN  06-jan-2036  uncategorized   \n",
      "1875   2415.0        NaN  26-aug-2036  uncategorized   \n",
      "3036   4090.0        NaN          NaN  uncategorized   \n",
      "431    4098.0        NaN  02-jan-2034  uncategorized   \n",
      "426    1561.0        NaN  16-feb-2036  uncategorized   \n",
      "3671   1573.0        NaN  13-jan-2034  uncategorized   \n",
      "370    1255.0        NaN  08-sep-2034  uncategorized   \n",
      "4518  35272.0        NaN  16-apr-2035  uncategorized   \n",
      "3888   1027.0        NaN          NaN  uncategorized   \n",
      "\n",
      "                                               features  \\\n",
      "79    short shifter pops & bangs spit fire owner's 3...   \n",
      "3618  powered by defender's refined 2.2 litre diesel...   \n",
      "1875  24 ft box, 10 ton truck attach with power tail...   \n",
      "3036                                                NaN   \n",
      "431   28 ton isuzu tipper! fuel friendly! high tippe...   \n",
      "426   spacious ergonomic long wheel base van! great ...   \n",
      "3671                                                NaN   \n",
      "370                    view specs of the nissan cabstar   \n",
      "4518                                                NaN   \n",
      "3888  view specs of the fiat professional doblo carg...   \n",
      "\n",
      "                                            accessories  indicative_price  \\\n",
      "79                                                  NaN               NaN   \n",
      "3618  land rover folding seats! spacious loading rea...               NaN   \n",
      "1875                                         cd player.               NaN   \n",
      "3036                                                NaN               NaN   \n",
      "431                                                 NaN               NaN   \n",
      "426                                                 NaN               NaN   \n",
      "3671                                                NaN               NaN   \n",
      "370                                                 NaN               NaN   \n",
      "4518                                                NaN               NaN   \n",
      "3888                                                NaN               NaN   \n",
      "\n",
      "         price  market_price    bargain  \n",
      "79     59300.0     83147.460  23847.460  \n",
      "3618  128500.0    148066.160  19566.160  \n",
      "1875   39400.0     53897.195  14497.195  \n",
      "3036   76900.0     88404.590  11504.590  \n",
      "431    74600.0     84965.880  10365.880  \n",
      "426    32800.0     43058.080  10258.080  \n",
      "3671   30600.0     39083.754   8483.754  \n",
      "370    28500.0     36828.180   8328.180  \n",
      "4518   57000.0     63939.082   6939.082  \n",
      "3888   21800.0     28707.502   6907.502  \n",
      "\n",
      "[10 rows x 33 columns]\n"
     ]
    }
   ],
   "source": [
    "from utils.rank import ranking\n",
    "ranking(filtered,10)"
   ]
  }
 ],
 "metadata": {
  "interpreter": {
   "hash": "d915f13621cb8afbc642e105cf2b8e65aed2623a9571399b110ebdf0ae1dda84"
  },
  "kernelspec": {
   "display_name": "Python 3.7.11 64-bit ('env_torch': conda)",
   "language": "python",
   "name": "python3"
  },
  "language_info": {
   "codemirror_mode": {
    "name": "ipython",
    "version": 3
   },
   "file_extension": ".py",
   "mimetype": "text/x-python",
   "name": "python",
   "nbconvert_exporter": "python",
   "pygments_lexer": "ipython3",
   "version": "3.7.11"
  },
  "orig_nbformat": 4
 },
 "nbformat": 4,
 "nbformat_minor": 2
}
